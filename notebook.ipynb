{
 "cells": [
  {
   "cell_type": "markdown",
   "metadata": {},
   "source": [
    "# Google Chrome Data Analysis"
   ]
  },
  {
   "cell_type": "code",
   "execution_count": 1,
   "metadata": {},
   "outputs": [],
   "source": [
    "import json\n",
    "import matplotlib.pyplot as plt\n",
    "import matplotlib.dates as mdates\n",
    "from datetime import datetime, timedelta, time\n",
    "from scipy.ndimage.filters import gaussian_filter1d"
   ]
  },
  {
   "cell_type": "markdown",
   "metadata": {},
   "source": [
    "## Processing"
   ]
  },
  {
   "cell_type": "code",
   "execution_count": 2,
   "metadata": {},
   "outputs": [],
   "source": [
    "# Get this file from takeout.google.com\n",
    "# To speed up the process, only select \"Google Chrome\"\n",
    "# and within \"Google Chrome\" only select \"Browser History\".\n",
    "# This file should be ready in a couple minutes\n",
    "with open(r'BrowserHistory.json', encoding='utf8') as file:\n",
    "    data = json.load(file)\n",
    "if 'Browser History' not in data.keys():\n",
    "    print('Invalid JSON file!')\n",
    "    raise\n",
    "data = data['Browser History']\n",
    "if len(data) == 0:\n",
    "    print(\"You have no data in this file!\")\n",
    "    raise\n",
    "\n",
    "googles = []\n",
    "search_words = {}\n",
    "search_phrases = {}\n",
    "bings = []\n",
    "bing_search_words = {}\n",
    "bing_search_phrases = {}\n",
    "times = []\n",
    "# Histogram of when sites are loaded. \n",
    "# This shows most/least active time of day\n",
    "daily_minute = [0] * 1440\n",
    "day_of_week = [0] * 7\n",
    "# Number of visits for each day\n",
    "daily_visits = {}\n",
    "urls = {}\n",
    "longest_url = data[0]['url']\n",
    "shortest_url = data[0]['url']\n",
    "\n",
    "for entry in data:\n",
    "\n",
    "    # Most visited url\n",
    "    # Method: Get up to the third '/'\n",
    "    indices = [i for i, a in enumerate(entry['url']) if a == '/']\n",
    "    # Skip things that we don't care about, like \"about:blank\"\n",
    "    if len(indices) < 3:\n",
    "        continue\n",
    "    site = entry['url'][:indices[2]+1]\n",
    "    if site in urls.keys():\n",
    "        urls[site] += 1\n",
    "    else:\n",
    "        urls[site] = 1\n",
    "\n",
    "    # Number of Google Searches\n",
    "    if len(entry['url']) > 30 and entry['url'][:30] == 'https://www.google.com/search?':\n",
    "        googles.append(entry)\n",
    "        \n",
    "        # Search phrase frequency\n",
    "        phrase = entry['title'][:-16] # remove the \" - Google Search\"\n",
    "        if phrase in search_phrases.keys():\n",
    "            search_phrases[phrase] += 1\n",
    "        else:\n",
    "            search_phrases[phrase] = 1\n",
    "            \n",
    "        # Search word frequency\n",
    "        # Average English vocabulary: 20000 active words, 40000 passive\n",
    "        keywords = phrase.split(' ')\n",
    "        for word in keywords:\n",
    "            if word in search_words.keys():\n",
    "                search_words[word] += 1\n",
    "            else:\n",
    "                search_words[word] = 1\n",
    "        \n",
    "    # Number of Bing searches https://www.bing.com/search?\n",
    "    if len(entry['url']) > 27 and entry['url'][:28] == 'https://www.bing.com/search?':\n",
    "        bings.append(entry)\n",
    "        \n",
    "        # Search phrase frequency\n",
    "        phrase = entry['url'][28 : entry['url'].index('&')]\n",
    "        phrase = phrase.replace('%20', ' ')\n",
    "        if phrase in bing_search_phrases.keys():\n",
    "            bing_search_phrases[phrase] += 1\n",
    "        else:\n",
    "            bing_search_phrases[phrase] = 1\n",
    "            \n",
    "        # Search word frequency\n",
    "        # Average English vocabulary: 20000 active words, 40000 passive\n",
    "        keywords = phrase.split(' ')\n",
    "        for word in keywords:\n",
    "            if word in bing_search_words.keys():\n",
    "                bing_search_words[word] += 1\n",
    "            else:\n",
    "                bing_search_words[word] = 1\n",
    "\n",
    "    # Average time of day\n",
    "    time = entry['time_usec'] / 1000000.0\n",
    "    time = datetime.fromtimestamp(time) #.strftime('%Y-%m-%d %H:%M:%S')\n",
    "    times.append(time)\n",
    "    time_idx = time.hour*60 + time.minute\n",
    "    daily_minute[time_idx] += 1\n",
    "\n",
    "    # Weekly usage\n",
    "    day_of_week[time.weekday()] += 1\n",
    "    \n",
    "    # Number of webpages per day\n",
    "    day_idx = time.strftime('%Y-%m-%d')\n",
    "    if day_idx in daily_visits.keys():\n",
    "        daily_visits[day_idx] += 1\n",
    "    else:\n",
    "        daily_visits[day_idx] = 1\n",
    "        \n",
    "    # Longest URL vs Shortest URL\n",
    "    if len(entry['url']) > len(longest_url):\n",
    "        longest_url = entry['url']\n",
    "    elif len(entry['url']) < len(shortest_url):\n",
    "        shortest_url = entry['url']\n"
   ]
  },
  {
   "cell_type": "markdown",
   "metadata": {},
   "source": [
    "## Search Facts"
   ]
  },
  {
   "cell_type": "code",
   "execution_count": 3,
   "metadata": {},
   "outputs": [
    {
     "name": "stdout",
     "output_type": "stream",
     "text": [
      "You made 17781 Google searches with 12296 unique phrases and 12404 unique words\n",
      "\n",
      "You made 7 Bing searches with 5 unique phrases and 9 unique words\n",
      "\n",
      "The longest URL you visited was 7698 characters and the shortest was 10 characters\n",
      "\n",
      "Your most popular words to use in search are:\n",
      "\t'to' 1439 times\n",
      "\t'of' 1151 times\n",
      "\t'python' 856 times\n",
      "\t'in' 738 times\n",
      "\t'how' 691 times\n",
      "\t'the' 625 times\n",
      "\t'is' 507 times\n",
      "\t'for' 493 times\n",
      "\t'madison' 473 times\n",
      "\t'a' 462 times\n",
      "\t'and' 437 times\n",
      "\t'phd' 405 times\n",
      "\t'weather' 392 times\n",
      "\t'science' 375 times\n",
      "\t'on' 313 times\n",
      "\t'uw' 293 times\n",
      "\t'date' 279 times\n",
      "\t'with' 268 times\n",
      "\t'release' 255 times\n",
      "\t'bokeh' 249 times\n",
      "\t'list' 245 times\n",
      "\t'what' 244 times\n",
      "\t'computer' 237 times\n",
      "\t'android' 234 times\n",
      "\t'not' 219 times\n",
      "\t'reddit' 217 times\n",
      "\t'get' 209 times\n",
      "\t'movie' 208 times\n",
      "\t'from' 205 times\n",
      "\t'pandas' 202 times\n"
     ]
    }
   ],
   "source": [
    "print('You made {} Google searches with {} unique phrases and {} unique words'\n",
    "      .format(len(googles), len(search_phrases), len(search_words)))\n",
    "print()\n",
    "print('You made {} Bing searches with {} unique phrases and {} unique words'\n",
    "      .format(len(bings), len(bing_search_phrases), len(bing_search_words)))\n",
    "print()\n",
    "print('The longest URL you visited was {} characters and the shortest was {} characters'\n",
    "      .format(len(longest_url),len(shortest_url)))\n",
    "print()\n",
    "combined_searches = dict(search_words)\n",
    "for key, val in bing_search_words.items():\n",
    "    if key in combined_searches:\n",
    "        combined_searches[key] += val\n",
    "    else:\n",
    "        combined_searches[key] = val\n",
    "combined_searches = sorted(combined_searches.items(), key=lambda x: x[1], reverse=True)\n",
    "print('Your most popular words to use in search are:')\n",
    "for i in range(30):\n",
    "    print(\"\\t'{}' {} times\".format(combined_searches[i][0], combined_searches[i][1]))\n"
   ]
  },
  {
   "cell_type": "markdown",
   "metadata": {},
   "source": [
    "## Daily Activity"
   ]
  },
  {
   "cell_type": "code",
   "execution_count": 4,
   "metadata": {
    "scrolled": true
   },
   "outputs": [
    {
     "name": "stdout",
     "output_type": "stream",
     "text": [
      "You visited 124093 sites in the last 366 days!\n",
      "That's 338 sites per day\n",
      "\n",
      "Your most active days were:\n",
      "\t1) 2019-10-30 with 1294 webpage visits\n",
      "\t2) 2019-11-25 with 1186 webpage visits\n",
      "\t3) 2019-12-02 with 1181 webpage visits\n",
      "\t4) 2019-10-16 with 1136 webpage visits\n",
      "\t5) 2019-12-30 with 1056 webpage visits\n"
     ]
    },
    {
     "data": {
      "image/png": "[encoded data removed]",
      "text/plain": [
       "<Figure size 432x288 with 1 Axes>"
      ]
     },
     "metadata": {
      "needs_background": "light"
     },
     "output_type": "display_data"
    }
   ],
   "source": [
    "%matplotlib inline\n",
    "daily = dict(daily_visits)\n",
    "sorted_visits = sorted(daily.items(), key=lambda x:x[1], reverse=True)\n",
    "\n",
    "total = 0\n",
    "for day in sorted_visits:\n",
    "    total += day[1]\n",
    "ave = int(total / len(sorted_visits))\n",
    "print('You visited {} sites in the last {} days!'.format(len(data), len(sorted_visits)))\n",
    "print('That\\'s {} sites per day'.format(ave))\n",
    "print()\n",
    "print(\"Your most active days were:\")\n",
    "for i in range(5):\n",
    "    print(\"\\t{}) {} with {} webpage visits\".format(str(i+1), sorted_visits[i][0], sorted_visits[i][1]))\n",
    "\n",
    "start_day = datetime.strptime(list(daily.items())[-1][0], '%Y-%m-%d')\n",
    "end_day = datetime.strptime(list(daily.items())[0][0], '%Y-%m-%d')\n",
    "date_list = mdates.drange(start_day, end_day+timedelta(days=1), timedelta(days=1))\n",
    "for date in date_list:\n",
    "    if not mdates.num2date(date).strftime('%Y-%m-%d') in daily.keys():\n",
    "        daily[mdates.num2date(date).strftime('%Y-%m-%d')] = 0\n",
    "\n",
    "sorted_visits = sorted(daily.items(), key = lambda x:datetime.strptime(x[0], '%Y-%m-%d'), reverse=False)\n",
    "plt.gca().xaxis.set_major_formatter(mdates.DateFormatter(\"%b '%y\"))\n",
    "plt.gca().xaxis.set_major_locator(mdates.MonthLocator(interval=1))\n",
    "plt.gca().axes.set_ylabel('Number of Websites Visited Per Day')\n",
    "plt.gca().axes.set_xlabel('Day')\n",
    "plt.title('Websites Visited per Day')\n",
    "\n",
    "visits = [x[1] for x in sorted_visits]\n",
    "visits_smoothed = gaussian_filter1d(visits, sigma=12)\n",
    "\n",
    "plt.plot(date_list, visits_smoothed, '-', color='black')\n",
    "plt.gcf().autofmt_xdate()\n",
    "plt.grid()\n",
    "plt.show()"
   ]
  },
  {
   "cell_type": "code",
   "execution_count": 5,
   "metadata": {},
   "outputs": [
    {
     "data": {
      "image/png": "[encoded data removed]",
      "text/plain": [
       "<Figure size 432x288 with 1 Axes>"
      ]
     },
     "metadata": {
      "needs_background": "light"
     },
     "output_type": "display_data"
    },
    {
     "name": "stdout",
     "output_type": "stream",
     "text": [
      "It looks like you're most active on Mon and least active on Sat\n"
     ]
    }
   ],
   "source": [
    "xlabs = ['Mon', 'Tue', 'Wed', 'Thu', 'Fri', 'Sat', 'Sun']\n",
    "plt.xticks(range(7),xlabs)\n",
    "plt.gca().axes.set_yticklabels([])\n",
    "plt.gca().axes.set_ylabel('Average Weekly Usage')\n",
    "plt.gca().axes.set_xlabel('Day of the Week')\n",
    "plt.title('Average Internet Usage per Week')\n",
    "plt.bar(range(7), day_of_week, color='black');\n",
    "# plt.gcf().autofmt_xdate()\n",
    "# plt.grid()\n",
    "plt.show()\n",
    "\n",
    "max_index = day_of_week.index(max(day_of_week))\n",
    "min_index = day_of_week.index(min(day_of_week))\n",
    "print('It looks like you\\'re most active on {} and least active on {}'\n",
    "      .format(xlabs[max_index], xlabs[min_index]))"
   ]
  },
  {
   "cell_type": "markdown",
   "metadata": {},
   "source": [
    "## Average Daily Usage"
   ]
  },
  {
   "cell_type": "code",
   "execution_count": 7,
   "metadata": {},
   "outputs": [
    {
     "data": {
      "image/png": "[encoded data removed]",
      "text/plain": [
       "<Figure size 432x288 with 1 Axes>"
      ]
     },
     "metadata": {
      "needs_background": "light"
     },
     "output_type": "display_data"
    },
    {
     "name": "stdout",
     "output_type": "stream",
     "text": [
      "It looks like you're most active around 02:12 PM and least active around 03:12 AM\n"
     ]
    }
   ],
   "source": [
    "start_time = datetime(12, 12, 12, 0, 0)\n",
    "end_time = start_time + timedelta(hours=24)\n",
    "time_list = mdates.drange(start_time, end_time, timedelta(minutes=1))\n",
    "hour_list = mdates.drange(start_time, end_time+timedelta(hours=1), timedelta(hours=2))\n",
    "daily_minute_smoothed = gaussian_filter1d(daily_minute, sigma=14)\n",
    "plt.gca().xaxis.set_major_formatter(mdates.DateFormatter('%I %p'))\n",
    "plt.xticks(hour_list)\n",
    "plt.gca().axes.set_yticklabels([])\n",
    "plt.gca().axes.set_ylabel('Average Number of Websites Visited')\n",
    "plt.gca().axes.set_xlabel('Time of Day (Minutes)')\n",
    "plt.title('Average Internet Usage per Day')\n",
    "plt.plot(time_list, daily_minute_smoothed, '-', color='black');\n",
    "plt.gcf().autofmt_xdate()\n",
    "plt.grid()\n",
    "plt.show()\n",
    "\n",
    "max_index = list(daily_minute_smoothed).index(max(daily_minute_smoothed))\n",
    "min_index = list(daily_minute_smoothed).index(min(daily_minute_smoothed))\n",
    "most_active = (mdates.num2date(time_list[max_index]).strftime('%I:%m %p'))\n",
    "least_active = (mdates.num2date(time_list[min_index]).strftime('%I:%m %p'))\n",
    "print('It looks like you\\'re most active around {} and least active around {}'\n",
    "      .format(most_active, least_active))"
   ]
  }
 ],
 "metadata": {
  "kernelspec": {
   "display_name": "Python 3",
   "language": "python",
   "name": "python3"
  },
  "language_info": {
   "codemirror_mode": {
    "name": "ipython",
    "version": 3
   },
   "file_extension": ".py",
   "mimetype": "text/x-python",
   "name": "python",
   "nbconvert_exporter": "python",
   "pygments_lexer": "ipython3",
   "version": "3.7.1"
  }
 },
 "nbformat": 4,
 "nbformat_minor": 4
}
